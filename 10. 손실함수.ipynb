{
  "nbformat": 4,
  "nbformat_minor": 0,
  "metadata": {
    "colab": {
      "name": "10. 손실함수.ipynb",
      "provenance": [],
      "authorship_tag": "ABX9TyP/LZbqXP8dJeNt88CNESV7",
      "include_colab_link": true
    },
    "kernelspec": {
      "name": "python3",
      "display_name": "Python 3"
    }
  },
  "cells": [
    {
      "cell_type": "markdown",
      "metadata": {
        "id": "view-in-github",
        "colab_type": "text"
      },
      "source": [
        "<a href=\"https://colab.research.google.com/github/zombe962/Pythoin-Math-For-AI-100/blob/master/10.%20%EC%86%90%EC%8B%A4%ED%95%A8%EC%88%98.ipynb\" target=\"_parent\"><img src=\"https://colab.research.google.com/assets/colab-badge.svg\" alt=\"Open In Colab\"/></a>"
      ]
    },
    {
      "cell_type": "markdown",
      "metadata": {
        "id": "1fAnHaiFpOXD"
      },
      "source": [
        "평균제곱오차는 우리말로 '오차들의 제곱을 평균한 것'이라고 할 수 있다."
      ]
    },
    {
      "cell_type": "code",
      "metadata": {
        "colab": {
          "base_uri": "https://localhost:8080/"
        },
        "id": "AdpA4TJ_gd-P",
        "outputId": "42975bbb-9fba-4e3f-bfd1-a72b4bd08daa"
      },
      "source": [
        "# 10.3. 평균제곱오차 (MSE, Mean Square Error)\r\n",
        "\r\n",
        "import numpy as np\r\n",
        "y1 = np.array([.01, .02, .05, .1, .12,\r\n",
        "               .05, .05, .5, .0, .1])\r\n",
        "y2 = np.array([.05, .05, .05, .7, .05,\r\n",
        "               .05, .0, .0, .5, .0])\r\n",
        "t = np.array([ 0, 0, 0, 0, 0, 0, 0, 1, 0, 0])\r\n",
        "\r\n",
        "def mse(y, t):\r\n",
        "  return (np.sum((y-t)**2)) / len(y)\r\n",
        "\r\n",
        "print(mse(y1, t), mse(y2, t), mse(y1, t)/mse(y2, t))"
      ],
      "execution_count": 2,
      "outputs": [
        {
          "output_type": "stream",
          "text": [
            "0.02924 0.17525 0.16684736091298147\n"
          ],
          "name": "stdout"
        }
      ]
    },
    {
      "cell_type": "code",
      "metadata": {
        "colab": {
          "base_uri": "https://localhost:8080/"
        },
        "id": "JBGmV4h7rql_",
        "outputId": "37fb47fd-54d0-493a-bda3-43492699d5e6"
      },
      "source": [
        "# 10.4. 크로스엔트로피오차(CEE) 2\r\n",
        "\r\n",
        "y1 = np.array([.01,.02,.05,.1,.12,.05,.05,.5,.0,.1])\r\n",
        "y2 = np.array([.05,.05,.05,.7,.05,.05,.0,.0,.05,.0])\r\n",
        "t = np.array([0,0,0,0,0,0,0,1,0,0])\r\n",
        "\r\n",
        "def cee(y, t):\r\n",
        "  return -np.sum(t*np.log(y+1e-7))  # log(0)은 음의 무한대로 발산하므로 0이 되지 않도록 0.0000001(= 1e - 7) 정도의 작은 값을 더해줌\r\n",
        "\r\n",
        "print(cee(y1, t), cee(y2, t))"
      ],
      "execution_count": 3,
      "outputs": [
        {
          "output_type": "stream",
          "text": [
            "0.6931469805599654 16.11809565095832\n"
          ],
          "name": "stdout"
        }
      ]
    }
  ]
}