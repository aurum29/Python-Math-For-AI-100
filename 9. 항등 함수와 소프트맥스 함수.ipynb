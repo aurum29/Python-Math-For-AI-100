{
  "nbformat": 4,
  "nbformat_minor": 0,
  "metadata": {
    "colab": {
      "name": "9.  항등 함수와 소프트맥스 함수.ipynb",
      "provenance": [],
      "collapsed_sections": [],
      "authorship_tag": "ABX9TyNPCUiKDg8oV6IdDRaI5EEL",
      "include_colab_link": true
    },
    "kernelspec": {
      "name": "python3",
      "display_name": "Python 3"
    }
  },
  "cells": [
    {
      "cell_type": "markdown",
      "metadata": {
        "id": "view-in-github",
        "colab_type": "text"
      },
      "source": [
        "<a href=\"https://colab.research.google.com/github/zombe962/Pythoin-Math-For-AI-100/blob/master/9.%20%ED%95%AD%EB%93%B1%20%ED%95%A8%EC%88%98%EC%99%80%20%EC%86%8C%ED%94%84%ED%8A%B8%EB%A7%A5%EC%8A%A4%20%ED%95%A8%EC%88%98.ipynb\" target=\"_parent\"><img src=\"https://colab.research.google.com/assets/colab-badge.svg\" alt=\"Open In Colab\"/></a>"
      ]
    },
    {
      "cell_type": "code",
      "metadata": {
        "id": "7R0x1fTvX_7E"
      },
      "source": [
        "# 9.1. 항등함수(identity function)\r\n",
        "def identity_function(x):\r\n",
        "  return x"
      ],
      "execution_count": null,
      "outputs": []
    },
    {
      "cell_type": "code",
      "metadata": {
        "colab": {
          "base_uri": "https://localhost:8080/"
        },
        "id": "zaBva_6DYJ7y",
        "outputId": "3eaa8c40-b612-46f8-fe55-8238e1ec7318"
      },
      "source": [
        "# 9.2. 비례확률함수\r\n",
        "\r\n",
        "import numpy as np\r\n",
        "def mean_probability(x):\r\n",
        "  x = x.T\r\n",
        "  return (x / np.sum(x, axis=0)).T  # axis = 1 이면 행방향 값들의 합\r\n",
        "\r\n",
        "y = np.array([[1,1,3,0,0,0,1,0,0,4], [2,2,5,1,0,0,5,0,1,4]])\r\n",
        "print(mean_probability(y))"
      ],
      "execution_count": null,
      "outputs": [
        {
          "output_type": "stream",
          "text": [
            "[[0.1  0.1  0.3  0.   0.   0.   0.1  0.   0.   0.4 ]\n",
            " [0.1  0.1  0.25 0.05 0.   0.   0.25 0.   0.05 0.2 ]]\n"
          ],
          "name": "stdout"
        }
      ]
    },
    {
      "cell_type": "code",
      "metadata": {
        "colab": {
          "base_uri": "https://localhost:8080/"
        },
        "id": "51F3BXbzsU1G",
        "outputId": "9ebb2e50-b61f-42ed-9887-d60176822cc1"
      },
      "source": [
        "# 9.3. 소프트맥스 함수\r\n",
        "\r\n",
        "import numpy as np\r\n",
        "def softmax(X):\r\n",
        "  X = X.T - np.max(X.T, axis = 0)\r\n",
        "  return (np.exp(X) / np.sum(np.exp(X), axis = 0)).T\r\n",
        "\r\n",
        "y = np.array([[1,1,2,4,6,0,0,0,0,0]])\r\n",
        "print(softmax(y))"
      ],
      "execution_count": null,
      "outputs": [
        {
          "output_type": "stream",
          "text": [
            "[[0.00571245 0.00571245 0.01552804 0.11473753 0.84780208 0.00210149\n",
            "  0.00210149 0.00210149 0.00210149 0.00210149]]\n"
          ],
          "name": "stdout"
        }
      ]
    }
  ]
}