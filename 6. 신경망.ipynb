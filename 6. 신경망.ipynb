{
  "nbformat": 4,
  "nbformat_minor": 0,
  "metadata": {
    "colab": {
      "name": "6. 신경망.ipynb",
      "provenance": [],
      "collapsed_sections": [],
      "authorship_tag": "ABX9TyOQVgdzKAU8e7uCzFPtPz3w",
      "include_colab_link": true
    },
    "kernelspec": {
      "name": "python3",
      "display_name": "Python 3"
    }
  },
  "cells": [
    {
      "cell_type": "markdown",
      "metadata": {
        "id": "view-in-github",
        "colab_type": "text"
      },
      "source": [
        "<a href=\"https://colab.research.google.com/github/zombe962/Pythoin-Math-For-AI-100/blob/master/6.%20%EC%8B%A0%EA%B2%BD%EB%A7%9D.ipynb\" target=\"_parent\"><img src=\"https://colab.research.google.com/assets/colab-badge.svg\" alt=\"Open In Colab\"/></a>"
      ]
    },
    {
      "cell_type": "markdown",
      "metadata": {
        "id": "EUauUf0K9um7"
      },
      "source": [
        "a = b + w_1 x_1 + w_2 x_2  ......  (1)\r\n",
        "\r\n",
        "h(x) = { 0 (if x <= 0)\r\n",
        ", 1 (if x > 0)} ...... (2)\r\n",
        "- h(x)는 '활성화 함수' 또는 '활성함수'라 부름\r\n",
        "\r\n",
        "\r\n",
        "y = h(a) ...... (3)"
      ]
    },
    {
      "cell_type": "code",
      "metadata": {
        "colab": {
          "base_uri": "https://localhost:8080/",
          "height": 265
        },
        "id": "nXAw9sak9PFa",
        "outputId": "d28b71ad-a6cd-41f5-9445-3fd432f0a536"
      },
      "source": [
        "# 6.5.1. 계단함수(step function)\r\n",
        "\r\n",
        "import numpy as np\r\n",
        "import matplotlib.pyplot as plt\r\n",
        "\r\n",
        "def h(x):\r\n",
        "  return np.array(x>0)\r\n",
        "\r\n",
        "x = np.arange(-3, 3, 0.1)\r\n",
        "y = h(x)\r\n",
        "plt.plot(x, y)\r\n",
        "plt.show()"
      ],
      "execution_count": null,
      "outputs": [
        {
          "output_type": "display_data",
          "data": {
            "image/png": "[encoded data removed]",
            "text/plain": [
              "<Figure size 432x288 with 1 Axes>"
            ]
          },
          "metadata": {
            "tags": [],
            "needs_background": "light"
          }
        }
      ]
    },
    {
      "cell_type": "code",
      "metadata": {
        "colab": {
          "base_uri": "https://localhost:8080/"
        },
        "id": "PC9fzHh0AegF",
        "outputId": "e2a46002-e917-4c6d-d3e5-8993ad120c1a"
      },
      "source": [
        "print(y)"
      ],
      "execution_count": null,
      "outputs": [
        {
          "output_type": "stream",
          "text": [
            "[False False False False False False False False False False False False\n",
            " False False False False False False False False False False False False\n",
            " False False False False False False  True  True  True  True  True  True\n",
            "  True  True  True  True  True  True  True  True  True  True  True  True\n",
            "  True  True  True  True  True  True  True  True  True  True  True  True]\n"
          ],
          "name": "stdout"
        }
      ]
    },
    {
      "cell_type": "code",
      "metadata": {
        "colab": {
          "base_uri": "https://localhost:8080/"
        },
        "id": "xxzaRrfdAhhG",
        "outputId": "ec53df74-1d63-4b1a-910b-09c4628cfb8b"
      },
      "source": [
        "print(x[30])"
      ],
      "execution_count": null,
      "outputs": [
        {
          "output_type": "stream",
          "text": [
            "2.6645352591003757e-15\n"
          ],
          "name": "stdout"
        }
      ]
    },
    {
      "cell_type": "markdown",
      "metadata": {
        "id": "43tJipL3DUBH"
      },
      "source": [
        "x[30]은 2진수이다."
      ]
    },
    {
      "cell_type": "markdown",
      "metadata": {
        "id": "AdzSVtSYDc1g"
      },
      "source": [
        "#소수점 이하를 이진수로 표현하기\r\n",
        "이진수 0.1 -> 십진수 0.5 = 2^(-1)\r\n",
        "\r\n",
        "이진수 0.01  -> 십진수 0.25 = 2^(-2)\r\n",
        "\r\n",
        "이진수 0.001 -> 십진수 0.125 = 2^(-3)\r\n",
        "\r\n",
        "이진수 0.011 -> 십진수 0.375"
      ]
    },
    {
      "cell_type": "code",
      "metadata": {
        "colab": {
          "base_uri": "https://localhost:8080/"
        },
        "id": "wMEdy3NIEGp5",
        "outputId": "23d880b9-83b5-44ff-9cf2-9b8c27e1ec5e"
      },
      "source": [
        "# 6.5.3. 소수점 이하를 이진수로 표현하기\r\n",
        "\r\n",
        "a = [0,0,0,1,1,0,0,1,1,0,0,1,1,0,0,1,1,0,0,1,1,0,0,1,1,0,0,1,1]\r\n",
        "b = 0\r\n",
        "for index, num in enumerate(a):\r\n",
        "  b += num*(2**(-(index+1)))\r\n",
        "\r\n",
        "print(b)"
      ],
      "execution_count": null,
      "outputs": [
        {
          "output_type": "stream",
          "text": [
            "0.09999999962747097\n"
          ],
          "name": "stdout"
        }
      ]
    },
    {
      "cell_type": "markdown",
      "metadata": {
        "id": "hZ_QR1C_E2jS"
      },
      "source": [
        "0011을 무수히 반복시 0.1에 수렴하게 된다.\r\n",
        "\r\n",
        "따라서, 십진수 0.1은 이진수로 정확하게 표현할 수 없다."
      ]
    },
    {
      "cell_type": "markdown",
      "metadata": {
        "id": "uYTbxFssFOtJ"
      },
      "source": [
        "위 x[30]에서의\r\n",
        "\r\n",
        "2.6645352591003757는 일반적인 실수를\r\n",
        "\r\n",
        "e-15는 10^(-15)를 의미한다.\r\n"
      ]
    },
    {
      "cell_type": "code",
      "metadata": {
        "colab": {
          "base_uri": "https://localhost:8080/",
          "height": 265
        },
        "id": "E9qxHE3ZRV5t",
        "outputId": "a2f55687-ec06-45cb-bb4a-ea52cb0b650b"
      },
      "source": [
        "#6.5.5. 시그모이드 함수 1\r\n",
        "\r\n",
        "import numpy as np\r\n",
        "import matplotlib.pyplot as plt\r\n",
        "\r\n",
        "def sigmoid(x):\r\n",
        "  return 1 / (1 + np.exp(-x))   # np.exp(-x) is e^(-x).\r\n",
        "\r\n",
        "x = np.arange(-5, 5, 0.1)\r\n",
        "y = sigmoid(x)\r\n",
        "\r\n",
        "plt.plot(x, y)\r\n",
        "plt.show()"
      ],
      "execution_count": null,
      "outputs": [
        {
          "output_type": "display_data",
          "data": {
            "image/png": "[encoded data removed]",
            "text/plain": [
              "<Figure size 432x288 with 1 Axes>"
            ]
          },
          "metadata": {
            "tags": [],
            "needs_background": "light"
          }
        }
      ]
    },
    {
      "cell_type": "markdown",
      "metadata": {
        "id": "RLfb_EXKScG8"
      },
      "source": [
        "# 선형 조건 \r\n",
        "\r\n",
        "f(x+y) = f(x) + f(y) ...... (1)\r\n",
        "\r\n",
        "f(ax) = af(x) ......(2)\r\n",
        "\r\n",
        ">활성함수의 특징은 _' 비선형 '_\r\n",
        "\r\n",
        "\r\n",
        "-> 활성 함수가 선형이면 아무리 여러 번 처리해도 최종값은 Ka 형태로 나오기 때문."
      ]
    },
    {
      "cell_type": "code",
      "metadata": {
        "colab": {
          "base_uri": "https://localhost:8080/",
          "height": 483
        },
        "id": "dhYNtXHyWIQ6",
        "outputId": "4fd47731-6599-4005-bbdf-284791a635f9"
      },
      "source": [
        "# 6.5.6. 하이퍼볼릭 탄젠트(tanh) 1\r\n",
        "\r\n",
        "import numpy as np\r\n",
        "import matplotlib.pyplot as plt\r\n",
        "\r\n",
        "def tah(x):\r\n",
        "  return np.tanh(x)\r\n",
        "\r\n",
        "x = np.arange(-5, 5, 0.1)\r\n",
        "y = tah(x)\r\n",
        "\r\n",
        "plt.figure(figsize=(8,8))\r\n",
        "plt.plot(x, y)\r\n",
        "plt.show()"
      ],
      "execution_count": null,
      "outputs": [
        {
          "output_type": "display_data",
          "data": {
            "image/png": "[encoded data removed]",
            "text/plain": [
              "<Figure size 576x576 with 1 Axes>"
            ]
          },
          "metadata": {
            "tags": [],
            "needs_background": "light"
          }
        }
      ]
    },
    {
      "cell_type": "markdown",
      "metadata": {
        "id": "cYS_YeXdX0_I"
      },
      "source": [
        "# 시그모이드 계열 사용 빈도가 줄어든 이유\r\n",
        "1. ReLU 함수는 0보다 작은면 0을, 0 이상이면 입력값을 그대로 출력하므로 컴퓨팅 파워 소모 거의 x\r\n",
        "2. 시그모이드의 치명적 단점인 기울기값 소멸을 극복\r\n",
        ">ex.) 층의 수를 늘려 계산의 다양성을 추구했지만, 시그모이드 함수 때문에 0에 수렴하는 결과\r\n"
      ]
    },
    {
      "cell_type": "code",
      "metadata": {
        "colab": {
          "base_uri": "https://localhost:8080/",
          "height": 265
        },
        "id": "jLNSGLMSXKNR",
        "outputId": "a5708312-c4a2-418f-da8e-21080d96429b"
      },
      "source": [
        "# 6.5.7. ReLU 1\r\n",
        "import numpy as np\r\n",
        "import matplotlib.pyplot as plt\r\n",
        "\r\n",
        "def r(x): # r(x) = {|x| + x} / 2\r\n",
        "  return np.maximum(0, x)\r\n",
        "\r\n",
        "x = np.arange(-5, 5, 0.1)\r\n",
        "y = r(x)\r\n",
        "plt.plot(x, y)\r\n",
        "plt.show()"
      ],
      "execution_count": null,
      "outputs": [
        {
          "output_type": "display_data",
          "data": {
            "image/png": "[encoded data removed]",
            "text/plain": [
              "<Figure size 432x288 with 1 Axes>"
            ]
          },
          "metadata": {
            "tags": [],
            "needs_background": "light"
          }
        }
      ]
    }
  ]
}