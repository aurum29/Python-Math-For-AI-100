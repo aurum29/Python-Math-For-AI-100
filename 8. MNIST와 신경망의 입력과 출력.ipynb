{
  "nbformat": 4,
  "nbformat_minor": 0,
  "metadata": {
    "colab": {
      "name": "8. MNIST와 신경망의 입력과 출력.ipynb",
      "provenance": [],
      "collapsed_sections": [],
      "authorship_tag": "ABX9TyMAsRh0bSAmXx8onSUFk1iy",
      "include_colab_link": true
    },
    "kernelspec": {
      "name": "python3",
      "display_name": "Python 3"
    }
  },
  "cells": [
    {
      "cell_type": "markdown",
      "metadata": {
        "id": "view-in-github",
        "colab_type": "text"
      },
      "source": [
        "<a href=\"https://colab.research.google.com/github/zombe962/Pythoin-Math-For-AI-100/blob/master/8.%20MNIST%EC%99%80%20%EC%8B%A0%EA%B2%BD%EB%A7%9D%EC%9D%98%20%EC%9E%85%EB%A0%A5%EA%B3%BC%20%EC%B6%9C%EB%A0%A5.ipynb\" target=\"_parent\"><img src=\"https://colab.research.google.com/assets/colab-badge.svg\" alt=\"Open In Colab\"/></a>"
      ]
    },
    {
      "cell_type": "code",
      "metadata": {
        "id": "zmTLODwQxsTJ",
        "colab": {
          "base_uri": "https://localhost:8080/"
        },
        "outputId": "dd3ada39-1de2-46b1-c132-fe1283a7c593"
      },
      "source": [
        "# 8.4 행렬계산을 위한 파이썬 코드 1\r\n",
        "# X + Y = 1100 ......(1)\r\n",
        "# 2X + 3Y = 2800 ......(2)\r\n",
        "# 연립방정식을 행렬계산을 이용해 풀어보자\r\n",
        "import numpy as np\r\n",
        "from numpy.linalg import inv  # 이것 대신에 numpy.linalg.inv() 사용 가능\r\n",
        "\r\n",
        "A = np.array([[1, 1],\r\n",
        "              [2, 3]])\r\n",
        "B = np.array([[1100],\r\n",
        "              [2800]])\r\n",
        "\r\n",
        "invA = inv(A) # inv는 행렬의 역행렬을 만드는 함수\r\n",
        "print(np.dot(invA, B))"
      ],
      "execution_count": 1,
      "outputs": [
        {
          "output_type": "stream",
          "text": [
            "[[500.]\n",
            " [600.]]\n"
          ],
          "name": "stdout"
        }
      ]
    },
    {
      "cell_type": "markdown",
      "metadata": {
        "id": "mzx5ioe675B4"
      },
      "source": [
        "# 8.4 행렬계산을 위한 파이썬 코드 2\r\n",
        "\r\n",
        "from numpy.linalg import inv 대신 numpy.linalg.inv() 사용가능 하다는 내용이므로 **생략**"
      ]
    },
    {
      "cell_type": "code",
      "metadata": {
        "id": "q4vnFuLf5rxl",
        "colab": {
          "base_uri": "https://localhost:8080/"
        },
        "outputId": "470f4946-f52a-48cc-e054-5bb99ca7e9dd"
      },
      "source": [
        "# 8.4 행렬계산을 위한 파이썬 코드 3\r\n",
        "\r\n",
        "import numpy as np\r\n",
        "from numpy.linalg import inv\r\n",
        "\r\n",
        "A = np.array([[1,1,1,1],\r\n",
        "             [5,2,4,7],\r\n",
        "             [0,1,1,2],\r\n",
        "             [5,2,2,3]])\r\n",
        "B = np.array([[2350],\r\n",
        "             [10600],\r\n",
        "             [2450],\r\n",
        "             [6800]])\r\n",
        "\r\n",
        "invA = inv(A)\r\n",
        "print(np.dot(invA, B))"
      ],
      "execution_count": 1,
      "outputs": [
        {
          "output_type": "stream",
          "text": [
            "[[500.]\n",
            " [550.]\n",
            " [700.]\n",
            " [600.]]\n"
          ],
          "name": "stdout"
        }
      ]
    },
    {
      "cell_type": "code",
      "metadata": {
        "id": "Mcbwa8kf6jOK",
        "colab": {
          "base_uri": "https://localhost:8080/"
        },
        "outputId": "084638cb-c3ad-474e-bf4d-22d0a5c295af"
      },
      "source": [
        "# 8.4 행렬계산을 위한 파이썬 코드 4\r\n",
        "\r\n",
        "# 전치행렬(Transpose)\r\n",
        "# 행과 열을 서로 바꾼 형태의 행렬\r\n",
        "import numpy as np\r\n",
        "\r\n",
        "#(1) 행렬을 만들고\r\n",
        "A = np.array([[1,1],\r\n",
        "              [2,3]])\r\n",
        "\r\n",
        "print(\"A = \\n\", A)\r\n",
        "print(\"A.T = \\n\", A.T)  # (2) 행렬이름 뒤에 .T를 붙임"
      ],
      "execution_count": 1,
      "outputs": [
        {
          "output_type": "stream",
          "text": [
            "A = \n",
            " [[1 1]\n",
            " [2 3]]\n",
            "A.T = \n",
            " [[1 2]\n",
            " [1 3]]\n"
          ],
          "name": "stdout"
        }
      ]
    },
    {
      "cell_type": "code",
      "metadata": {
        "id": "t8EqPRtJ7UfI",
        "colab": {
          "base_uri": "https://localhost:8080/"
        },
        "outputId": "989ea2a5-7185-4548-e48d-323f3b992b44"
      },
      "source": [
        "# 8.6. 무작위 데이터로 신경망함수 만들기\r\n",
        "\r\n",
        "# 00. keras에서 mnist 데이터 읽어오기\r\n",
        "import numpy as np\r\n",
        "from keras.datasets import mnist\r\n",
        "(x_train, y_train), (x_test, y_test) = mnist.load_data()\r\n",
        "\r\n",
        "# 데이터 포맷은 60000, 28, 28 / 10000, 28,28\r\n",
        "# 데이터를 28x28에서 784로 변경\r\n",
        "x_train = x_train.reshape(60000, 784)\r\n",
        "x_test = x_test.reshape(10000, 784)\r\n",
        "\r\n",
        "# 01 Hidden 1 Layer : W, b 초기화 [W1, W2, B1, B2]\r\n",
        "def init_mnistbw2(layer_x, layer_h, layer_y):\r\n",
        "  matrix_nn = {}\r\n",
        "  matrix_nn = dict(B1 = np.random.rand(layer_h),\r\n",
        "                   B2 = np.random.rand(layer_y),\r\n",
        "                   W1 = np.random.rand(layer_x, layer_h),\r\n",
        "                   W2 = np.random.rand(layer_h, layer_y))\r\n",
        "  return matrix_nn\r\n",
        "\r\n",
        "# 02. 활성함수\r\n",
        "def sigmoid(x):\r\n",
        "  return 1 / (1+np.exp(-x))\r\n",
        "\r\n",
        "# 03. 소프트맥스\r\n",
        "def softmax(X):\r\n",
        "  X = X.T - np.max(X.T, axis = 0)\r\n",
        "  return (np.exp(X) / np.sum(np.exp(X), axis = 0)).T\r\n",
        "\r\n",
        "# 04. predict\r\n",
        "def predict(X):\r\n",
        "  A = sigmoid(np.dot(X, W1) + B1)\r\n",
        "  B = sigmoid(np.dot(A, W2) + B2)\r\n",
        "  return softmax(B)\r\n",
        "\r\n",
        "#process\r\n",
        "\r\n",
        "ibw = init_mnistbw2(784, 50, 10)\r\n",
        "W1, W2, B1, B2 = ibw['W1'], ibw['W2'], ibw['B1'], ibw['B2']\r\n",
        "accuracy = 0\r\n",
        "\r\n",
        "for i in range(len(x_test)):  #10,000\r\n",
        "  y = predict(x_test[i])\r\n",
        "  p = np.argmax(y)\r\n",
        "  if p == y_test[i]:\r\n",
        "    accuracy = accuracy + 1\r\n",
        "\r\n",
        "print(\"Acc = \", str(float(accuracy/len(x_test)))) # 0.1 근처의 값"
      ],
      "execution_count": 6,
      "outputs": [
        {
          "output_type": "stream",
          "text": [
            "Acc =  0.0982\n"
          ],
          "name": "stdout"
        }
      ]
    },
    {
      "cell_type": "markdown",
      "metadata": {
        "id": "7B4-7uthU26x"
      },
      "source": [
        "학습이 되지 않았으므로 0.1 근처의 값이 나오게 된다. (1/10의 정답률)"
      ]
    }
  ]
}