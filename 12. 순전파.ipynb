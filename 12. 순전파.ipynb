{
  "nbformat": 4,
  "nbformat_minor": 0,
  "metadata": {
    "colab": {
      "name": "12. 순전파.ipynb",
      "provenance": [],
      "collapsed_sections": [],
      "authorship_tag": "ABX9TyOfLQ6WVHdHgNj1Eyf+S7BM",
      "include_colab_link": true
    },
    "kernelspec": {
      "name": "python3",
      "display_name": "Python 3"
    }
  },
  "cells": [
    {
      "cell_type": "markdown",
      "metadata": {
        "id": "view-in-github",
        "colab_type": "text"
      },
      "source": [
        "<a href=\"https://colab.research.google.com/github/zombe962/Pythoin-Math-For-AI-100/blob/master/12.%20%EC%88%9C%EC%A0%84%ED%8C%8C.ipynb\" target=\"_parent\"><img src=\"https://colab.research.google.com/assets/colab-badge.svg\" alt=\"Open In Colab\"/></a>"
      ]
    },
    {
      "cell_type": "code",
      "metadata": {
        "id": "Pmd5jsJR1RYM",
        "colab": {
          "base_uri": "https://localhost:8080/"
        },
        "outputId": "76d3d73b-4dbd-49ee-8cc3-c89813b54e65"
      },
      "source": [
        "# 12.1. MNIST 데이터 입력\r\n",
        "\r\n",
        "import numpy as np\r\n",
        "from keras.datasets import mnist\r\n",
        "(x_train, t_train), (x_test, t_test) = mnist.load_data()\r\n",
        "t_trainlbl, t_testlbl = t_train, t_test\r\n",
        "\r\n",
        "# 28x28을 784로 수정\r\n",
        "x_train = x_train.reshape(60000, 784)   #주석 (1) 60000x28x28 크기의 행렬을 60000x784로 고침.\r\n",
        "x_test = x_test.reshape(10000, 784)\r\n",
        "\r\n",
        "# one-hot label # 주석 (2)\r\n",
        "T0 = np.zeros((t_train.size, 10))   #(60000,10) = 000\r\n",
        "T1 = np.zeros((t_test.size, 10))    #(10000,10) = 000\r\n",
        "\r\n",
        "for idx in range(t_train.size): T0[idx][t_train[idx]] = 1   # 주석 (3)\r\n",
        "for idx in range(t_test.size): T1[idx][t_test[idx]] = 1\r\n",
        "\r\n",
        "t_train, t_test = T0, T1 \r\n",
        "\r\n",
        "# normalize 0.0 ~ 1.0\r\n",
        "x_train = x_train / 255\r\n",
        "x_test = x_test / 255\r\n",
        "\r\n",
        "print('MNIST DataSets 준비 완료')"
      ],
      "execution_count": 4,
      "outputs": [
        {
          "output_type": "stream",
          "text": [
            "Downloading data from https://storage.googleapis.com/tensorflow/tf-keras-datasets/mnist.npz\n",
            "11493376/11490434 [==============================] - 0s 0us/step\n",
            "MNIST DataSets 준비 완료\n"
          ],
          "name": "stdout"
        }
      ]
    },
    {
      "cell_type": "markdown",
      "metadata": {
        "id": "RBx0vBap5dmh"
      },
      "source": [
        "\\#(1)은 60000x28x28 크기의 행렬을 60000x784로 고치는 부분입니다.\r\n",
        "\r\n",
        "\\#(2)는 t_train_size만큼의 크기를 가진 0으로 채운 1차원 행렬(벡터)을 만드는 것\r\n",
        "\r\n",
        "\\#(3)은 아래의 for문을 한 줄로 표현한 것입니다."
      ]
    },
    {
      "cell_type": "code",
      "metadata": {
        "id": "L1fvTKbYGC0H"
      },
      "source": [
        "# 12.2. 함수 정의\r\n",
        "\r\n",
        "# 미분함수\r\n",
        "def numerical_diff(f, x):\r\n",
        "  h = 1e-4  #0.0001\r\n",
        "  nd_coef = np.zeros_like(x)\r\n",
        "  it = np.nditer(x, flags=['multi_index'], op_flags=['readwrite'])\r\n",
        "  while not it.finished:\r\n",
        "    index = it.multi_index\r\n",
        "    tmp = x[index]\r\n",
        "    x[index] = tmp + h\r\n",
        "    fxh2 = f()  # f(x+h)\r\n",
        "    x[index] = tmp - h\r\n",
        "    fxh1 = f()  # f(x-h)\r\n",
        "    nd_coef[index] = (fxh2 - fxh1) / (2*h)\r\n",
        "    x[index] = tmp\r\n",
        "    it.iternext()\r\n",
        "  return nd_coef\r\n",
        "\r\n",
        "# 시그모이드\r\n",
        "def sigmoid(x):\r\n",
        "  return 1 / (1 + np.exp(-x))\r\n",
        "\r\n",
        "# 소프트맥스\r\n",
        "def softmax(x):\r\n",
        "  if x.ndim == 1:   # 기본 1개 처리과정, 백터 입력\r\n",
        "    x = x - np.max(x)\r\n",
        "    return np.exp(x) / np.sum(np.exp(x))\r\n",
        "  if x.ndim == 2:   # 배치용 n개 처리, 행렬 입력\r\n",
        "    x = x.T - np.max(x.T, axis = 0)\r\n",
        "    return (np.exp(x) / np.sum(np.exp(x), axis=0)).T\r\n",
        "\r\n",
        "# 크로스엔트로피오차\r\n",
        "def cee(y, t):\r\n",
        "  if y.ndim == 1:\r\n",
        "    t = t.reshape(1, t.size)  # 크기가 1xN인 2차원 행렬로 재구성\r\n",
        "    y = y.reshape(1, y.size)\r\n",
        "  result = -np.sum(t*np.log(y + 1e-7)) / y.shape[0]\r\n",
        "  return result"
      ],
      "execution_count": 5,
      "outputs": []
    },
    {
      "cell_type": "code",
      "metadata": {
        "id": "jRK4vJjTYbxt"
      },
      "source": [
        "#12.3. 프로세스별 클래스 생성\r\n",
        "\r\n",
        "class Relu:\r\n",
        "  def __init__(self):\r\n",
        "    self.mask = None\r\n",
        "  \r\n",
        "  def forward(self, x):\r\n",
        "    self.mask = (x <= 0)\r\n",
        "    result = x.copy()\r\n",
        "    result[self.mask] = 0\r\n",
        "    return result\r\n",
        "\r\n",
        "class Sigmoid:\r\n",
        "  def __init__(self):\r\n",
        "    self.out = None\r\n",
        "  \r\n",
        "  def forward(self, x):\r\n",
        "    self.out = sigmoid(x)\r\n",
        "    return self.out\r\n",
        "\r\n",
        "class Affine:   # wx+b를 계산하여 결과 반환\r\n",
        "  def __init__(self, W, b):\r\n",
        "    self.W = W  # W0, W1\r\n",
        "    self.b = b  # b0, b1\r\n",
        "    self.x = None\r\n",
        "    self.dW = None  # w0, w1의 기울기\r\n",
        "    self.db = None  # b0, b1의 기울기\r\n",
        "\r\n",
        "  def forward(self, x):\r\n",
        "    self.x = x\r\n",
        "    result = np.dot(self.x, self.W) + self.b\r\n",
        "    return result\r\n",
        "\r\n",
        "class SoftmaxWithLoss:\r\n",
        "  def __init__(self):\r\n",
        "    self.y = None   # 출력(계산결과)\r\n",
        "    self.t = None   # 결과(MNIST레이블)\r\n",
        "  \r\n",
        "  def forward(self, x, t):\r\n",
        "    self.t = t\r\n",
        "    self.y = softmax(x)\r\n",
        "    result = cee(self.y, self.t)\r\n",
        "    return result"
      ],
      "execution_count": 14,
      "outputs": []
    },
    {
      "cell_type": "code",
      "metadata": {
        "id": "qly3oMHNdU95"
      },
      "source": [
        "# 12.4. 네트워크 클래스 생성\r\n",
        "\r\n",
        "class SimpleNetwork:\r\n",
        "  def __init__(self, inputx, hidden, outy, weight):\r\n",
        "    # 가중치 초기화\r\n",
        "    self.netMat = {}\r\n",
        "    self.netMat['W0'] = weight * np.random.randn(inputx, hidden)\r\n",
        "    self.netMat['b0'] = np.zeros(hidden)\r\n",
        "    self.netMat['W1'] = weight * np.random.randn(hidden, outy)\r\n",
        "    self.netMat['b1'] = np.zeros(outy)\r\n",
        "\r\n",
        "    # 계층 생성\r\n",
        "    self.netLayers = {}\r\n",
        "    self.netLayers['Affine1'] = Affine(self.netMat['W0'],\r\n",
        "                                       self.netMat['b0'])\r\n",
        "    self.netLayers['Relu1'] = Relu()\r\n",
        "    self.netLayers['Affine2'] = Affine(self.netMat['W1'],\r\n",
        "                                       self.netMat['b1'])\r\n",
        "    self.netLayers['Softmax'] = SoftmaxWithLoss()\r\n",
        "\r\n",
        "  def predict(self, x):\r\n",
        "    x = self.netLayers['Affine1'].forward(x)\r\n",
        "    x = self.netLayers['Relu1'].forward(x)\r\n",
        "    x = self.netLayers['Affine2'].forward(x)\r\n",
        "    return x\r\n",
        "\r\n",
        "  # x: 입력데이터, t: 정답레이블\r\n",
        "  def loss(self, x, t):\r\n",
        "    y = self.predict(x)\r\n",
        "    return self.netLayers['Softmax'].forward(y, t)\r\n",
        "\r\n",
        "  def accuracy(self, x, t):\r\n",
        "    y = self.predict(x)\r\n",
        "    y = np.argmax(y, axis=1)\r\n",
        "    if t.ndim != 1 : t= np.argmax(t, axis=1)\r\n",
        "    accuracy = np.sum(y == t) / float(x.shape[0])\r\n",
        "    return accuracy\r\n",
        "\r\n",
        "  def numerical_gradient(self, x, t):\r\n",
        "    lossfunc = lambda : self.loss(x, t)\r\n",
        "    grads = {}\r\n",
        "    \r\n",
        "    grads['W0'] = numerical_diff(lossfunc, self.netMat['W0'])\r\n",
        "    grads['b0'] = numerical_diff(lossfunc, self.netMat['b0'])\r\n",
        "    grads['W1'] = numerical_diff(lossfunc, self.netMat['W1'])\r\n",
        "    grads['b1'] = numerical_diff(lossfunc, self.netMat['b1'])\r\n",
        "    return grads"
      ],
      "execution_count": 17,
      "outputs": []
    },
    {
      "cell_type": "code",
      "metadata": {
        "colab": {
          "base_uri": "https://localhost:8080/",
          "height": 542
        },
        "id": "zNdqUYyKsd04",
        "outputId": "01372a39-7cc3-4ac9-c76e-225006745e20"
      },
      "source": [
        "# 12.5. 미분을 이용한 학습과 검증\r\n",
        "\r\n",
        "import time   # Using Time Module(시간 측정)\r\n",
        "t1 = time.time()  # save nowTime (현재 시간 측정)\r\n",
        "\r\n",
        "train_size = x_train.shape[0]   # size of TrainData (입력데이터 크기) 60000\r\n",
        "lr = 0.1  #learning rate(학습률)\r\n",
        "iter = 0  #Iternation Number (반복 횟수)\r\n",
        "\r\n",
        "iters_num = 1000\r\n",
        "batch_size = 20\r\n",
        "iter_per_epoch = 1\r\n",
        "\r\n",
        "network = SimpleNetwork(inputx=784, hidden=50, outy=10, weight = 0.2)\r\n",
        "\r\n",
        "print('loss = _______ time = _______ n = ______ | [TrainAcc] [TestAcc]')\r\n",
        "\r\n",
        "for i in range(iters_num):   #1000\r\n",
        "  batch_mask = np.random.choice(train_size, batch_size)   # (1) 주석\r\n",
        "  x_batch = x_train[batch_mask]\r\n",
        "  t_batch = t_train[batch_mask]\r\n",
        "\r\n",
        "  # 기울기 계산\r\n",
        "  grad = network.numerical_gradient(x_batch, t_batch) # 수치미분(편미분) 방식\r\n",
        "\r\n",
        "  # 갱신\r\n",
        "  for key in ('W0', 'b0', 'W1', 'b1'): network.netMat[key] -= lr*grad[key]\r\n",
        "\r\n",
        "  loss = network.loss(x_batch, t_batch)\r\n",
        "\r\n",
        "  train_acc = network.accuracy(x_train, t_train)\r\n",
        "  test_acc = network.accuracy(x_test, t_test)\r\n",
        "  iter = iter + 1\r\n",
        "\r\n",
        "  print('loss = {:7.4f}  '.format(loss), end='')\r\n",
        "  print('time = {:8.4f}  '.format(time.time()-t1), end='')\r\n",
        "  print('n = {:06d} |  {:6.4f}  {:9.4f}'.format(iter, train_acc, test_acc))"
      ],
      "execution_count": 21,
      "outputs": [
        {
          "output_type": "stream",
          "text": [
            "loss = _______ time = _______ n = ______ | [TrainAcc] [TestAcc]\n",
            "loss =  2.3851  time =  24.5611  n = 000001 |  0.1407     0.1472\n",
            "loss =  1.7128  time =  48.9964  n = 000002 |  0.1708     0.1739\n",
            "loss =  1.6308  time =  74.5130  n = 000003 |  0.2000     0.2086\n",
            "loss =  1.5737  time =  99.2929  n = 000004 |  0.2514     0.2668\n",
            "loss =  1.9560  time = 123.7933  n = 000005 |  0.2662     0.2832\n"
          ],
          "name": "stdout"
        },
        {
          "output_type": "error",
          "ename": "KeyboardInterrupt",
          "evalue": "ignored",
          "traceback": [
            "\u001b[0;31m---------------------------------------------------------------------------\u001b[0m",
            "\u001b[0;31mKeyboardInterrupt\u001b[0m                         Traceback (most recent call last)",
            "\u001b[0;32m<ipython-input-21-3c791d6ee315>\u001b[0m in \u001b[0;36m<module>\u001b[0;34m()\u001b[0m\n\u001b[1;32m     22\u001b[0m \u001b[0;34m\u001b[0m\u001b[0m\n\u001b[1;32m     23\u001b[0m   \u001b[0;31m# 기울기 계산\u001b[0m\u001b[0;34m\u001b[0m\u001b[0;34m\u001b[0m\u001b[0;34m\u001b[0m\u001b[0m\n\u001b[0;32m---> 24\u001b[0;31m   \u001b[0mgrad\u001b[0m \u001b[0;34m=\u001b[0m \u001b[0mnetwork\u001b[0m\u001b[0;34m.\u001b[0m\u001b[0mnumerical_gradient\u001b[0m\u001b[0;34m(\u001b[0m\u001b[0mx_batch\u001b[0m\u001b[0;34m,\u001b[0m \u001b[0mt_batch\u001b[0m\u001b[0;34m)\u001b[0m \u001b[0;31m# 수치미분(편미분) 방식\u001b[0m\u001b[0;34m\u001b[0m\u001b[0;34m\u001b[0m\u001b[0m\n\u001b[0m\u001b[1;32m     25\u001b[0m \u001b[0;34m\u001b[0m\u001b[0m\n\u001b[1;32m     26\u001b[0m   \u001b[0;31m# 갱신\u001b[0m\u001b[0;34m\u001b[0m\u001b[0;34m\u001b[0m\u001b[0;34m\u001b[0m\u001b[0m\n",
            "\u001b[0;32m<ipython-input-17-1cd72e7ae3a8>\u001b[0m in \u001b[0;36mnumerical_gradient\u001b[0;34m(self, x, t)\u001b[0m\n\u001b[1;32m     41\u001b[0m     \u001b[0mgrads\u001b[0m \u001b[0;34m=\u001b[0m \u001b[0;34m{\u001b[0m\u001b[0;34m}\u001b[0m\u001b[0;34m\u001b[0m\u001b[0;34m\u001b[0m\u001b[0m\n\u001b[1;32m     42\u001b[0m \u001b[0;34m\u001b[0m\u001b[0m\n\u001b[0;32m---> 43\u001b[0;31m     \u001b[0mgrads\u001b[0m\u001b[0;34m[\u001b[0m\u001b[0;34m'W0'\u001b[0m\u001b[0;34m]\u001b[0m \u001b[0;34m=\u001b[0m \u001b[0mnumerical_diff\u001b[0m\u001b[0;34m(\u001b[0m\u001b[0mlossfunc\u001b[0m\u001b[0;34m,\u001b[0m \u001b[0mself\u001b[0m\u001b[0;34m.\u001b[0m\u001b[0mnetMat\u001b[0m\u001b[0;34m[\u001b[0m\u001b[0;34m'W0'\u001b[0m\u001b[0;34m]\u001b[0m\u001b[0;34m)\u001b[0m\u001b[0;34m\u001b[0m\u001b[0;34m\u001b[0m\u001b[0m\n\u001b[0m\u001b[1;32m     44\u001b[0m     \u001b[0mgrads\u001b[0m\u001b[0;34m[\u001b[0m\u001b[0;34m'b0'\u001b[0m\u001b[0;34m]\u001b[0m \u001b[0;34m=\u001b[0m \u001b[0mnumerical_diff\u001b[0m\u001b[0;34m(\u001b[0m\u001b[0mlossfunc\u001b[0m\u001b[0;34m,\u001b[0m \u001b[0mself\u001b[0m\u001b[0;34m.\u001b[0m\u001b[0mnetMat\u001b[0m\u001b[0;34m[\u001b[0m\u001b[0;34m'b0'\u001b[0m\u001b[0;34m]\u001b[0m\u001b[0;34m)\u001b[0m\u001b[0;34m\u001b[0m\u001b[0;34m\u001b[0m\u001b[0m\n\u001b[1;32m     45\u001b[0m     \u001b[0mgrads\u001b[0m\u001b[0;34m[\u001b[0m\u001b[0;34m'W1'\u001b[0m\u001b[0;34m]\u001b[0m \u001b[0;34m=\u001b[0m \u001b[0mnumerical_diff\u001b[0m\u001b[0;34m(\u001b[0m\u001b[0mlossfunc\u001b[0m\u001b[0;34m,\u001b[0m \u001b[0mself\u001b[0m\u001b[0;34m.\u001b[0m\u001b[0mnetMat\u001b[0m\u001b[0;34m[\u001b[0m\u001b[0;34m'W1'\u001b[0m\u001b[0;34m]\u001b[0m\u001b[0;34m)\u001b[0m\u001b[0;34m\u001b[0m\u001b[0;34m\u001b[0m\u001b[0m\n",
            "\u001b[0;32m<ipython-input-5-70a4434c4257>\u001b[0m in \u001b[0;36mnumerical_diff\u001b[0;34m(f, x)\u001b[0m\n\u001b[1;32m     12\u001b[0m     \u001b[0mfxh2\u001b[0m \u001b[0;34m=\u001b[0m \u001b[0mf\u001b[0m\u001b[0;34m(\u001b[0m\u001b[0;34m)\u001b[0m  \u001b[0;31m# f(x+h)\u001b[0m\u001b[0;34m\u001b[0m\u001b[0;34m\u001b[0m\u001b[0m\n\u001b[1;32m     13\u001b[0m     \u001b[0mx\u001b[0m\u001b[0;34m[\u001b[0m\u001b[0mindex\u001b[0m\u001b[0;34m]\u001b[0m \u001b[0;34m=\u001b[0m \u001b[0mtmp\u001b[0m \u001b[0;34m-\u001b[0m \u001b[0mh\u001b[0m\u001b[0;34m\u001b[0m\u001b[0;34m\u001b[0m\u001b[0m\n\u001b[0;32m---> 14\u001b[0;31m     \u001b[0mfxh1\u001b[0m \u001b[0;34m=\u001b[0m \u001b[0mf\u001b[0m\u001b[0;34m(\u001b[0m\u001b[0;34m)\u001b[0m  \u001b[0;31m# f(x-h)\u001b[0m\u001b[0;34m\u001b[0m\u001b[0;34m\u001b[0m\u001b[0m\n\u001b[0m\u001b[1;32m     15\u001b[0m     \u001b[0mnd_coef\u001b[0m\u001b[0;34m[\u001b[0m\u001b[0mindex\u001b[0m\u001b[0;34m]\u001b[0m \u001b[0;34m=\u001b[0m \u001b[0;34m(\u001b[0m\u001b[0mfxh2\u001b[0m \u001b[0;34m-\u001b[0m \u001b[0mfxh1\u001b[0m\u001b[0;34m)\u001b[0m \u001b[0;34m/\u001b[0m \u001b[0;34m(\u001b[0m\u001b[0;36m2\u001b[0m\u001b[0;34m*\u001b[0m\u001b[0mh\u001b[0m\u001b[0;34m)\u001b[0m\u001b[0;34m\u001b[0m\u001b[0;34m\u001b[0m\u001b[0m\n\u001b[1;32m     16\u001b[0m     \u001b[0mx\u001b[0m\u001b[0;34m[\u001b[0m\u001b[0mindex\u001b[0m\u001b[0;34m]\u001b[0m \u001b[0;34m=\u001b[0m \u001b[0mtmp\u001b[0m\u001b[0;34m\u001b[0m\u001b[0;34m\u001b[0m\u001b[0m\n",
            "\u001b[0;32m<ipython-input-17-1cd72e7ae3a8>\u001b[0m in \u001b[0;36m<lambda>\u001b[0;34m()\u001b[0m\n\u001b[1;32m     38\u001b[0m \u001b[0;34m\u001b[0m\u001b[0m\n\u001b[1;32m     39\u001b[0m   \u001b[0;32mdef\u001b[0m \u001b[0mnumerical_gradient\u001b[0m\u001b[0;34m(\u001b[0m\u001b[0mself\u001b[0m\u001b[0;34m,\u001b[0m \u001b[0mx\u001b[0m\u001b[0;34m,\u001b[0m \u001b[0mt\u001b[0m\u001b[0;34m)\u001b[0m\u001b[0;34m:\u001b[0m\u001b[0;34m\u001b[0m\u001b[0;34m\u001b[0m\u001b[0m\n\u001b[0;32m---> 40\u001b[0;31m     \u001b[0mlossfunc\u001b[0m \u001b[0;34m=\u001b[0m \u001b[0;32mlambda\u001b[0m \u001b[0;34m:\u001b[0m \u001b[0mself\u001b[0m\u001b[0;34m.\u001b[0m\u001b[0mloss\u001b[0m\u001b[0;34m(\u001b[0m\u001b[0mx\u001b[0m\u001b[0;34m,\u001b[0m \u001b[0mt\u001b[0m\u001b[0;34m)\u001b[0m\u001b[0;34m\u001b[0m\u001b[0;34m\u001b[0m\u001b[0m\n\u001b[0m\u001b[1;32m     41\u001b[0m     \u001b[0mgrads\u001b[0m \u001b[0;34m=\u001b[0m \u001b[0;34m{\u001b[0m\u001b[0;34m}\u001b[0m\u001b[0;34m\u001b[0m\u001b[0;34m\u001b[0m\u001b[0m\n\u001b[1;32m     42\u001b[0m \u001b[0;34m\u001b[0m\u001b[0m\n",
            "\u001b[0;32m<ipython-input-17-1cd72e7ae3a8>\u001b[0m in \u001b[0;36mloss\u001b[0;34m(self, x, t)\u001b[0m\n\u001b[1;32m     27\u001b[0m   \u001b[0;31m# x: 입력데이터, t: 정답레이블\u001b[0m\u001b[0;34m\u001b[0m\u001b[0;34m\u001b[0m\u001b[0;34m\u001b[0m\u001b[0m\n\u001b[1;32m     28\u001b[0m   \u001b[0;32mdef\u001b[0m \u001b[0mloss\u001b[0m\u001b[0;34m(\u001b[0m\u001b[0mself\u001b[0m\u001b[0;34m,\u001b[0m \u001b[0mx\u001b[0m\u001b[0;34m,\u001b[0m \u001b[0mt\u001b[0m\u001b[0;34m)\u001b[0m\u001b[0;34m:\u001b[0m\u001b[0;34m\u001b[0m\u001b[0;34m\u001b[0m\u001b[0m\n\u001b[0;32m---> 29\u001b[0;31m     \u001b[0my\u001b[0m \u001b[0;34m=\u001b[0m \u001b[0mself\u001b[0m\u001b[0;34m.\u001b[0m\u001b[0mpredict\u001b[0m\u001b[0;34m(\u001b[0m\u001b[0mx\u001b[0m\u001b[0;34m)\u001b[0m\u001b[0;34m\u001b[0m\u001b[0;34m\u001b[0m\u001b[0m\n\u001b[0m\u001b[1;32m     30\u001b[0m     \u001b[0;32mreturn\u001b[0m \u001b[0mself\u001b[0m\u001b[0;34m.\u001b[0m\u001b[0mnetLayers\u001b[0m\u001b[0;34m[\u001b[0m\u001b[0;34m'Softmax'\u001b[0m\u001b[0;34m]\u001b[0m\u001b[0;34m.\u001b[0m\u001b[0mforward\u001b[0m\u001b[0;34m(\u001b[0m\u001b[0my\u001b[0m\u001b[0;34m,\u001b[0m \u001b[0mt\u001b[0m\u001b[0;34m)\u001b[0m\u001b[0;34m\u001b[0m\u001b[0;34m\u001b[0m\u001b[0m\n\u001b[1;32m     31\u001b[0m \u001b[0;34m\u001b[0m\u001b[0m\n",
            "\u001b[0;32m<ipython-input-17-1cd72e7ae3a8>\u001b[0m in \u001b[0;36mpredict\u001b[0;34m(self, x)\u001b[0m\n\u001b[1;32m     20\u001b[0m \u001b[0;34m\u001b[0m\u001b[0m\n\u001b[1;32m     21\u001b[0m   \u001b[0;32mdef\u001b[0m \u001b[0mpredict\u001b[0m\u001b[0;34m(\u001b[0m\u001b[0mself\u001b[0m\u001b[0;34m,\u001b[0m \u001b[0mx\u001b[0m\u001b[0;34m)\u001b[0m\u001b[0;34m:\u001b[0m\u001b[0;34m\u001b[0m\u001b[0;34m\u001b[0m\u001b[0m\n\u001b[0;32m---> 22\u001b[0;31m     \u001b[0mx\u001b[0m \u001b[0;34m=\u001b[0m \u001b[0mself\u001b[0m\u001b[0;34m.\u001b[0m\u001b[0mnetLayers\u001b[0m\u001b[0;34m[\u001b[0m\u001b[0;34m'Affine1'\u001b[0m\u001b[0;34m]\u001b[0m\u001b[0;34m.\u001b[0m\u001b[0mforward\u001b[0m\u001b[0;34m(\u001b[0m\u001b[0mx\u001b[0m\u001b[0;34m)\u001b[0m\u001b[0;34m\u001b[0m\u001b[0;34m\u001b[0m\u001b[0m\n\u001b[0m\u001b[1;32m     23\u001b[0m     \u001b[0mx\u001b[0m \u001b[0;34m=\u001b[0m \u001b[0mself\u001b[0m\u001b[0;34m.\u001b[0m\u001b[0mnetLayers\u001b[0m\u001b[0;34m[\u001b[0m\u001b[0;34m'Relu1'\u001b[0m\u001b[0;34m]\u001b[0m\u001b[0;34m.\u001b[0m\u001b[0mforward\u001b[0m\u001b[0;34m(\u001b[0m\u001b[0mx\u001b[0m\u001b[0;34m)\u001b[0m\u001b[0;34m\u001b[0m\u001b[0;34m\u001b[0m\u001b[0m\n\u001b[1;32m     24\u001b[0m     \u001b[0mx\u001b[0m \u001b[0;34m=\u001b[0m \u001b[0mself\u001b[0m\u001b[0;34m.\u001b[0m\u001b[0mnetLayers\u001b[0m\u001b[0;34m[\u001b[0m\u001b[0;34m'Affine2'\u001b[0m\u001b[0;34m]\u001b[0m\u001b[0;34m.\u001b[0m\u001b[0mforward\u001b[0m\u001b[0;34m(\u001b[0m\u001b[0mx\u001b[0m\u001b[0;34m)\u001b[0m\u001b[0;34m\u001b[0m\u001b[0;34m\u001b[0m\u001b[0m\n",
            "\u001b[0;32m<ipython-input-14-974fbc16e73f>\u001b[0m in \u001b[0;36mforward\u001b[0;34m(self, x)\u001b[0m\n\u001b[1;32m     29\u001b[0m   \u001b[0;32mdef\u001b[0m \u001b[0mforward\u001b[0m\u001b[0;34m(\u001b[0m\u001b[0mself\u001b[0m\u001b[0;34m,\u001b[0m \u001b[0mx\u001b[0m\u001b[0;34m)\u001b[0m\u001b[0;34m:\u001b[0m\u001b[0;34m\u001b[0m\u001b[0;34m\u001b[0m\u001b[0m\n\u001b[1;32m     30\u001b[0m     \u001b[0mself\u001b[0m\u001b[0;34m.\u001b[0m\u001b[0mx\u001b[0m \u001b[0;34m=\u001b[0m \u001b[0mx\u001b[0m\u001b[0;34m\u001b[0m\u001b[0;34m\u001b[0m\u001b[0m\n\u001b[0;32m---> 31\u001b[0;31m     \u001b[0mresult\u001b[0m \u001b[0;34m=\u001b[0m \u001b[0mnp\u001b[0m\u001b[0;34m.\u001b[0m\u001b[0mdot\u001b[0m\u001b[0;34m(\u001b[0m\u001b[0mself\u001b[0m\u001b[0;34m.\u001b[0m\u001b[0mx\u001b[0m\u001b[0;34m,\u001b[0m \u001b[0mself\u001b[0m\u001b[0;34m.\u001b[0m\u001b[0mW\u001b[0m\u001b[0;34m)\u001b[0m \u001b[0;34m+\u001b[0m \u001b[0mself\u001b[0m\u001b[0;34m.\u001b[0m\u001b[0mb\u001b[0m\u001b[0;34m\u001b[0m\u001b[0;34m\u001b[0m\u001b[0m\n\u001b[0m\u001b[1;32m     32\u001b[0m     \u001b[0;32mreturn\u001b[0m \u001b[0mresult\u001b[0m\u001b[0;34m\u001b[0m\u001b[0;34m\u001b[0m\u001b[0m\n\u001b[1;32m     33\u001b[0m \u001b[0;34m\u001b[0m\u001b[0m\n",
            "\u001b[0;32m<__array_function__ internals>\u001b[0m in \u001b[0;36mdot\u001b[0;34m(*args, **kwargs)\u001b[0m\n",
            "\u001b[0;31mKeyboardInterrupt\u001b[0m: "
          ]
        }
      ]
    },
    {
      "cell_type": "markdown",
      "metadata": {
        "id": "AvUu9pRQ3K7f"
      },
      "source": [
        "#time()함수 사용법\r\n",
        "\r\n",
        "\r\n",
        "```\r\n",
        "import time    #1. time을 import함\r\n",
        "t1 = time.time()   #2. time.time()으로 현재의 시간(UTC)을 지정함\r\n",
        "\r\n",
        "# 프로그램\r\n",
        "\r\n",
        "print(time.time()-t1)   #3. 현재 시간과 과거 시간을 뺀 값을 출력\r\n",
        "```\r\n",
        "\r\n"
      ]
    },
    {
      "cell_type": "markdown",
      "metadata": {
        "id": "CbbDQW4h32g6"
      },
      "source": [
        "\r\n",
        "\r\n",
        "```\r\n",
        "batch_mask = np.random.choice(train_size, batch_size)  #(1) 주석\r\n",
        "```\r\n",
        "\r\n",
        "주석 #(1) : 주석의 내용은 다음과 같다. train_size는 60,000이고, batch_size는 20이다. 즉, 0에서 59,999 사이의 숫자 중 임의로 20개 선택한다. 그것을 batch_mask에 넣는다.\r\n"
      ]
    }
  ]
}