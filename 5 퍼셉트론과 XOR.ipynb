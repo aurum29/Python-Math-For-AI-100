{
  "nbformat": 4,
  "nbformat_minor": 0,
  "metadata": {
    "colab": {
      "name": "5. 퍼셉트론과 XOR.ipynb",
      "provenance": [],
      "collapsed_sections": [],
      "authorship_tag": "ABX9TyMYEZjINkQVBYrlDr3QTjUF",
      "include_colab_link": true
    },
    "kernelspec": {
      "name": "python3",
      "display_name": "Python 3"
    }
  },
  "cells": [
    {
      "cell_type": "markdown",
      "metadata": {
        "id": "view-in-github",
        "colab_type": "text"
      },
      "source": [
        "<a href=\"https://colab.research.google.com/github/zombe962/Pythoin-Math-For-AI-100/blob/master/5%20%ED%8D%BC%EC%85%89%ED%8A%B8%EB%A1%A0%EA%B3%BC%20XOR.ipynb\" target=\"_parent\"><img src=\"https://colab.research.google.com/assets/colab-badge.svg\" alt=\"Open In Colab\"/></a>"
      ]
    },
    {
      "cell_type": "code",
      "metadata": {
        "id": "yqxOeHN-q5vK",
        "colab": {
          "base_uri": "https://localhost:8080/"
        },
        "outputId": "a09316d5-72e8-43f4-9362-afa82a78cac7"
      },
      "source": [
        "# 5.4.1. 퍼셉트론으로 만드는 AND\r\n",
        "\r\n",
        "def AND(x1, x2):\r\n",
        "  w1, w2, theta = .4, .4, .7\r\n",
        "  if x1*w1 + x2*w2 <= theta:\r\n",
        "    return 0\r\n",
        "  else:\r\n",
        "    return 1\r\n",
        "\r\n",
        "print(AND(0,0), AND(0,1), AND(1,0), AND(1,1))"
      ],
      "execution_count": 1,
      "outputs": [
        {
          "output_type": "stream",
          "text": [
            "0 0 0 1\n"
          ],
          "name": "stdout"
        }
      ]
    },
    {
      "cell_type": "code",
      "metadata": {
        "colab": {
          "base_uri": "https://localhost:8080/"
        },
        "id": "9ilYsGT5zAHT",
        "outputId": "80fa8469-4717-4f45-c614-2e3bee70577d"
      },
      "source": [
        "# 5.4.2. 퍼셉트론으로 만드는 OR\r\n",
        "\r\n",
        "def OR (x1, x2):\r\n",
        "  w1, w2, theta = .4, .4, .3\r\n",
        "  if x1*w1 + x2*w2 <= theta:\r\n",
        "    return 0\r\n",
        "  else:\r\n",
        "    return 1\r\n",
        "\r\n",
        "print(OR(0,0), OR(0,1), OR(1,0), OR(1,1))"
      ],
      "execution_count": 2,
      "outputs": [
        {
          "output_type": "stream",
          "text": [
            "0 1 1 1\n"
          ],
          "name": "stdout"
        }
      ]
    },
    {
      "cell_type": "code",
      "metadata": {
        "id": "hXbzVxA3zq1C"
      },
      "source": [
        "# 5.2.3. 퍼셉트론으로 만드는 NAND(Not And)\r\n",
        "\r\n",
        "def NAND(x1, x2):\r\n",
        "  w1, w2, theta = -.4, -.4, -.7\r\n",
        "  if x1*w1 + x2*w2 <= theta:\r\n",
        "    return 0\r\n",
        "  else:\r\n",
        "    return 1\r\n",
        "\r\n",
        "print(NAND(0,0), NAND(0,1), NAND(1,0), NAND(1,1))"
      ],
      "execution_count": null,
      "outputs": []
    },
    {
      "cell_type": "code",
      "metadata": {
        "id": "bei2rKlT0aUi"
      },
      "source": [
        "# 5.5.3. NAND, OR, AND 결합한 XOR 코드\r\n",
        "\r\n",
        "import numpy as np\r\n",
        "import matplotlib.pyplot as plt\r\n",
        "\r\n",
        "def AND(x1, x2):\r\n",
        "  w1, w2, theta = .4, .4, .7\r\n",
        "  if x1*w1 + x2*w2 <= theta:\r\n",
        "    return 0\r\n",
        "  else:\r\n",
        "    return 1\r\n",
        "\r\n",
        "def OR (x1, x2):\r\n",
        "  w1, w2, theta = .4, .4, .3\r\n",
        "  if x1*w1 + x2*w2 <= theta:\r\n",
        "    return 0\r\n",
        "  else:\r\n",
        "    return 1\r\n",
        "\r\n",
        "def NAND(x1, x2):\r\n",
        "  w1, w2, theta = -.4, -.4, -.7\r\n",
        "  if x1*w1 + x2*w2 <= theta:\r\n",
        "    return 0\r\n",
        "  else:\r\n",
        "    return 1\r\n",
        "\r\n",
        "def XOR(x1, x2):\r\n",
        "  h1 = NAND(x1, x2)\r\n",
        "  h2 = OR(x1, x2)\r\n",
        "  return AND(h1,h2)\r\n",
        "\r\n",
        "print(XOR(0,0), XOR(0,1), XOR(1,0), XOR(1,1))"
      ],
      "execution_count": null,
      "outputs": []
    },
    {
      "cell_type": "code",
      "metadata": {
        "colab": {
          "base_uri": "https://localhost:8080/"
        },
        "id": "sY2ZMHYv2Xc8",
        "outputId": "c9ddfcd9-ab31-4ad8-81b8-82934813a7de"
      },
      "source": [
        "# 5.5.5. 다중퍼셉트론의 코드 1\r\n",
        "\r\n",
        "import numpy as np\r\n",
        "\r\n",
        "def DLPerceptron(X, W1, W2):\r\n",
        "  x = np.array(X)\r\n",
        "  w1 = np.array(W1)\r\n",
        "  w2 = np.array(W2)\r\n",
        "  h1 = np.array([0.0]*len(X))\r\n",
        "  y = np.array([0.0]*len(X))\r\n",
        "  for count in range(len(X)):\r\n",
        "    h1[count] = np.sum(x*w1[count]) > 0\r\n",
        "  for count in range(len(x)):\r\n",
        "    y[count] = np.sum(h1*w2[count]) > 0\r\n",
        "  return y\r\n",
        "\r\n",
        "# 5.5.5. 다중퍼셉트론의 코드 2\r\n",
        "\r\n",
        "W1 = [[-0.4, -0.4, 0, 0, 0, 0.6],\r\n",
        "      [0.4, 0.4, 0, 0, 0, -0.3],\r\n",
        "      [0, 0, 0, 0, 0, 0],\r\n",
        "      [0, 0, 0, 0, 0, 0],\r\n",
        "      [0, 0, 0, 0, 0, 0],\r\n",
        "      [0, 0, 0, 0, 0, 1]]\r\n",
        "\r\n",
        "W2 = [[0.4, 0.4, 0, 0, 0, -0.7],\r\n",
        "      [0, 0, 0, 0, 0, 0],\r\n",
        "      [0, 0, 0, 0, 0, 0],\r\n",
        "      [0, 0, 0, 0, 0, 0],\r\n",
        "      [0, 0, 0, 0, 0, 0],\r\n",
        "      [0, 0, 0, 0, 0, 0]]\r\n",
        "\r\n",
        "Ex00 = [0, 0, 0, 0, 0, 1]\r\n",
        "Ex01 = [0, 1, 0, 0, 0, 1]\r\n",
        "Ex10 = [1, 0, 0, 0, 0, 1]\r\n",
        "Ex11 = [1, 1, 0, 0, 0, 1]\r\n",
        "\r\n",
        "print(\"x1, x2 = (0, 0) : \", DLPerceptron(Ex00,W1,W2))\r\n",
        "print(\"x1, x2 = (0, 1) : \", DLPerceptron(Ex01,W1,W2))\r\n",
        "print(\"x1, x2 = (1, 0) : \", DLPerceptron(Ex10,W1,W2))\r\n",
        "print(\"x1, x2 = (1, 1) : \", DLPerceptron(Ex11,W1,W2))\r\n"
      ],
      "execution_count": 4,
      "outputs": [
        {
          "output_type": "stream",
          "text": [
            "x1, x2 = (0, 0) :  [0. 0. 0. 0. 0. 0.]\n",
            "x1, x2 = (0, 1) :  [1. 0. 0. 0. 0. 0.]\n",
            "x1, x2 = (1, 0) :  [1. 0. 0. 0. 0. 0.]\n",
            "x1, x2 = (1, 1) :  [0. 0. 0. 0. 0. 0.]\n"
          ],
          "name": "stdout"
        }
      ]
    }
  ]
}